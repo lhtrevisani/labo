{
 "cells": [
  {
   "cell_type": "code",
   "execution_count": 1,
   "id": "128b6036-3086-48f3-883e-e92a420751e0",
   "metadata": {},
   "outputs": [],
   "source": [
    "#intencionalmente el mejor jugador va al final de la lista de jugadores\n",
    "#porque la funcion np.argmax() de Python hace trampa\n",
    "#si hay un empate ( dos máximos) se queda con el que esta primero en el vector\n",
    "import  numpy as np"
   ]
  },
  {
   "cell_type": "code",
   "execution_count": 2,
   "id": "432ab927-64fb-41a8-b464-59effe82aa14",
   "metadata": {},
   "outputs": [],
   "source": [
    "np.random.seed(102191)"
   ]
  },
  {
   "cell_type": "code",
   "execution_count": 3,
   "id": "2fee17fa-c48c-4321-a7b3-b5316ddce848",
   "metadata": {},
   "outputs": [],
   "source": [
    "#calcula cuantos encestes logra un jugador con indice de enceste prob\n",
    "#que hace qyt tiros libres\n",
    "def ftirar(prob, qty):\n",
    "  return sum(np.random.rand(qty) < prob) "
   ]
  },
  {
   "cell_type": "code",
   "execution_count": 4,
   "id": "77f8d1d9-f14f-4236-a242-d98bc86ef063",
   "metadata": {},
   "outputs": [],
   "source": [
    "#defino los jugadores\n",
    "mejor = 0.7\n",
    "peloton = np.array(range(501, 600)) / 1000\n",
    "jugadores = np.append(peloton, mejor) #intencionalmente el mejor esta al final"
   ]
  },
  {
   "cell_type": "code",
   "execution_count": 5,
   "id": "9764f073-4baa-4942-a8c2-16f979ffdd4e",
   "metadata": {},
   "outputs": [],
   "source": [
    "#vectorizo la funcion  ftirar\n",
    "vec_ftirar = np.vectorize(ftirar)"
   ]
  },
  {
   "cell_type": "code",
   "execution_count": 29,
   "id": "f75f4ccd-e793-4dcd-a508-3035cc39e096",
   "metadata": {},
   "outputs": [
    {
     "data": {
      "text/plain": [
       "array([1, 2, 1, 2, 4, 2, 2, 1, 5, 5, 2, 1, 3, 2, 2, 1, 2, 3, 5, 3, 3, 3,\n",
       "       3, 4, 2, 3, 0, 5, 3, 4, 1, 2, 3, 1, 2, 2, 2, 4, 4, 3, 2, 3, 4, 3,\n",
       "       1, 2, 1, 2, 4, 2, 1, 3, 2, 1, 4, 2, 3, 2, 2, 3, 3, 3, 5, 4, 4, 4,\n",
       "       1, 5, 1, 3, 2, 3, 3, 1, 3, 5, 4, 4, 4, 2, 1, 4, 2, 4, 1, 3, 3, 2,\n",
       "       3, 3, 5, 2, 2, 4, 4, 3, 3, 5, 2, 2])"
      ]
     },
     "execution_count": 29,
     "metadata": {},
     "output_type": "execute_result"
    }
   ],
   "source": [
    "aciertos = vec_ftirar(jugadores, 5)\n",
    "aciertos"
   ]
  },
  {
   "cell_type": "code",
   "execution_count": 30,
   "id": "45b4916a-72f3-4a02-9006-33f39f0a3843",
   "metadata": {},
   "outputs": [
    {
     "data": {
      "text/plain": [
       "array([98, 63, 85, 62, 23, 61, 60, 86,  6,  5, 59, 89, 42, 58, 57, 92, 56,\n",
       "       30,  2, 33, 34, 27, 28, 21, 55, 44, 99,  7, 45, 15, 97, 64, 40, 88,\n",
       "       69, 81, 79,  9, 25, 48, 78, 38, 14, 31, 96, 76, 95, 74, 22, 65, 94,\n",
       "       36, 73, 93, 16, 71, 32, 70, 66, 29, 37, 35,  3, 11, 12, 13, 91,  0,\n",
       "       90, 41, 82, 43, 53, 83, 46,  4, 19, 17, 18, 68, 87, 26, 72, 24, 84,\n",
       "       49, 50, 67, 51, 52,  1, 77, 80, 20, 10, 47, 39,  8, 75, 54])"
      ]
     },
     "execution_count": 30,
     "metadata": {},
     "output_type": "execute_result"
    }
   ],
   "source": [
    "np.argsort(aciertos)[::-1].argsort()"
   ]
  },
  {
   "cell_type": "code",
   "execution_count": null,
   "id": "e9150f33-d5fd-458c-80dc-a25b0386714e",
   "metadata": {},
   "outputs": [],
   "source": [
    "aciertos = vec_ftirar(jugadores, 50)"
   ]
  },
  {
   "cell_type": "code",
   "execution_count": null,
   "id": "5c4610d3-f656-4975-b7ce-93837dd627a9",
   "metadata": {},
   "outputs": [],
   "source": [
    "for tiros_libres in [10, 20, 50, 100, 200, 300, 400, 415, 500, 600, 700, 1000]:\n",
    "  primero_ganador = 0\n",
    "  for i in range(10000):\n",
    "    vaciertos = vec_ftirar(jugadores, tiros_libres) #10 tiros libres cada jugador\n",
    "    mejor = np.argmax(vaciertos)\n",
    "    if mejor == 99:\n",
    "      primero_ganador += 1\n",
    "  print(tiros_libres, \"\\t\", primero_ganador/10000)"
   ]
  }
 ],
 "metadata": {
  "kernelspec": {
   "display_name": "Python 3 (ipykernel)",
   "language": "python",
   "name": "python3"
  },
  "language_info": {
   "codemirror_mode": {
    "name": "ipython",
    "version": 3
   },
   "file_extension": ".py",
   "mimetype": "text/x-python",
   "name": "python",
   "nbconvert_exporter": "python",
   "pygments_lexer": "ipython3",
   "version": "3.10.4"
  }
 },
 "nbformat": 4,
 "nbformat_minor": 5
}
